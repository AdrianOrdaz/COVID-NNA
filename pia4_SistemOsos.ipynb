{
 "cells": [
  {
   "cell_type": "code",
   "execution_count": 2,
   "id": "9565424d",
   "metadata": {
    "id": "9565424d"
   },
   "outputs": [],
   "source": [
    "import pandas as pd #Libreria para leer el dataset.\n",
    "import matplotlib.pyplot as plt #Libreria para crear gráficas\n",
    "from sklearn.preprocessing import StandardScaler #Libreria para hacer estandarización.\n",
    "from sklearn.model_selection import train_test_split #Libreria para dividir el conjunto en prueba y entrenamiento.\n",
    "from sklearn.neural_network import MLPClassifier #Libreria del modelo de clasificacion\n",
    "from sklearn.metrics import ConfusionMatrixDisplay #Librerias para la creación e impresión de la matriz de confusión.\n",
    "from sklearn.metrics import confusion_matrix\n",
    "from sklearn.metrics import f1_score"
   ]
  },
  {
   "cell_type": "code",
   "execution_count": 24,
   "id": "c7b11b3c",
   "metadata": {
    "colab": {
     "base_uri": "https://localhost:8080/",
     "height": 226
    },
    "id": "c7b11b3c",
    "outputId": "b3b81194-9ec0-43aa-d234-e80e25865893",
    "scrolled": false
   },
   "outputs": [
    {
     "data": {
      "text/html": [
       "<div>\n",
       "<style scoped>\n",
       "    .dataframe tbody tr th:only-of-type {\n",
       "        vertical-align: middle;\n",
       "    }\n",
       "\n",
       "    .dataframe tbody tr th {\n",
       "        vertical-align: top;\n",
       "    }\n",
       "\n",
       "    .dataframe thead th {\n",
       "        text-align: right;\n",
       "    }\n",
       "</style>\n",
       "<table border=\"1\" class=\"dataframe\">\n",
       "  <thead>\n",
       "    <tr style=\"text-align: right;\">\n",
       "      <th></th>\n",
       "      <th>ORIGEN</th>\n",
       "      <th>SEXO</th>\n",
       "      <th>TIPO_PACIENTE</th>\n",
       "      <th>INTUBADO</th>\n",
       "      <th>NEUMONIA</th>\n",
       "      <th>EDAD</th>\n",
       "      <th>EMBARAZO</th>\n",
       "      <th>DIABETES</th>\n",
       "      <th>EPOC</th>\n",
       "      <th>ASMA</th>\n",
       "      <th>INMUSUPR</th>\n",
       "      <th>HIPERTENSION</th>\n",
       "      <th>OTRA_COM</th>\n",
       "      <th>CARDIOVASCULAR</th>\n",
       "      <th>OBESIDAD</th>\n",
       "      <th>RENAL_CRONICA</th>\n",
       "      <th>TABAQUISMO</th>\n",
       "      <th>OTRO_CASO</th>\n",
       "      <th>TOMA_MUESTRA_LAB</th>\n",
       "      <th>RESULTADO_LAB</th>\n",
       "      <th>TOMA_MUESTRA_ANTIGENO</th>\n",
       "      <th>RESULTADO_ANTIGENO</th>\n",
       "      <th>CLASIFICACION_FINAL</th>\n",
       "      <th>UCI</th>\n",
       "      <th>MURIO</th>\n",
       "    </tr>\n",
       "  </thead>\n",
       "  <tbody>\n",
       "    <tr>\n",
       "      <th>0</th>\n",
       "      <td>1</td>\n",
       "      <td>1</td>\n",
       "      <td>2</td>\n",
       "      <td>1</td>\n",
       "      <td>1</td>\n",
       "      <td>66</td>\n",
       "      <td>2</td>\n",
       "      <td>1</td>\n",
       "      <td>2</td>\n",
       "      <td>2</td>\n",
       "      <td>2</td>\n",
       "      <td>1</td>\n",
       "      <td>2</td>\n",
       "      <td>2</td>\n",
       "      <td>1</td>\n",
       "      <td>2</td>\n",
       "      <td>2</td>\n",
       "      <td>1</td>\n",
       "      <td>2</td>\n",
       "      <td>97</td>\n",
       "      <td>2</td>\n",
       "      <td>97</td>\n",
       "      <td>2</td>\n",
       "      <td>1</td>\n",
       "      <td>1</td>\n",
       "    </tr>\n",
       "    <tr>\n",
       "      <th>1</th>\n",
       "      <td>1</td>\n",
       "      <td>1</td>\n",
       "      <td>2</td>\n",
       "      <td>2</td>\n",
       "      <td>1</td>\n",
       "      <td>33</td>\n",
       "      <td>2</td>\n",
       "      <td>98</td>\n",
       "      <td>98</td>\n",
       "      <td>98</td>\n",
       "      <td>98</td>\n",
       "      <td>98</td>\n",
       "      <td>1</td>\n",
       "      <td>98</td>\n",
       "      <td>98</td>\n",
       "      <td>98</td>\n",
       "      <td>98</td>\n",
       "      <td>99</td>\n",
       "      <td>2</td>\n",
       "      <td>97</td>\n",
       "      <td>2</td>\n",
       "      <td>97</td>\n",
       "      <td>6</td>\n",
       "      <td>2</td>\n",
       "      <td>1</td>\n",
       "    </tr>\n",
       "    <tr>\n",
       "      <th>2</th>\n",
       "      <td>1</td>\n",
       "      <td>2</td>\n",
       "      <td>2</td>\n",
       "      <td>1</td>\n",
       "      <td>1</td>\n",
       "      <td>60</td>\n",
       "      <td>97</td>\n",
       "      <td>2</td>\n",
       "      <td>2</td>\n",
       "      <td>2</td>\n",
       "      <td>2</td>\n",
       "      <td>2</td>\n",
       "      <td>2</td>\n",
       "      <td>2</td>\n",
       "      <td>2</td>\n",
       "      <td>2</td>\n",
       "      <td>1</td>\n",
       "      <td>99</td>\n",
       "      <td>1</td>\n",
       "      <td>2</td>\n",
       "      <td>2</td>\n",
       "      <td>97</td>\n",
       "      <td>7</td>\n",
       "      <td>2</td>\n",
       "      <td>1</td>\n",
       "    </tr>\n",
       "    <tr>\n",
       "      <th>3</th>\n",
       "      <td>1</td>\n",
       "      <td>2</td>\n",
       "      <td>2</td>\n",
       "      <td>2</td>\n",
       "      <td>1</td>\n",
       "      <td>58</td>\n",
       "      <td>97</td>\n",
       "      <td>1</td>\n",
       "      <td>2</td>\n",
       "      <td>2</td>\n",
       "      <td>2</td>\n",
       "      <td>1</td>\n",
       "      <td>2</td>\n",
       "      <td>1</td>\n",
       "      <td>2</td>\n",
       "      <td>1</td>\n",
       "      <td>2</td>\n",
       "      <td>2</td>\n",
       "      <td>1</td>\n",
       "      <td>1</td>\n",
       "      <td>2</td>\n",
       "      <td>97</td>\n",
       "      <td>3</td>\n",
       "      <td>2</td>\n",
       "      <td>1</td>\n",
       "    </tr>\n",
       "    <tr>\n",
       "      <th>4</th>\n",
       "      <td>1</td>\n",
       "      <td>1</td>\n",
       "      <td>2</td>\n",
       "      <td>2</td>\n",
       "      <td>1</td>\n",
       "      <td>30</td>\n",
       "      <td>2</td>\n",
       "      <td>2</td>\n",
       "      <td>2</td>\n",
       "      <td>2</td>\n",
       "      <td>2</td>\n",
       "      <td>2</td>\n",
       "      <td>2</td>\n",
       "      <td>2</td>\n",
       "      <td>2</td>\n",
       "      <td>1</td>\n",
       "      <td>2</td>\n",
       "      <td>2</td>\n",
       "      <td>1</td>\n",
       "      <td>1</td>\n",
       "      <td>2</td>\n",
       "      <td>97</td>\n",
       "      <td>3</td>\n",
       "      <td>2</td>\n",
       "      <td>1</td>\n",
       "    </tr>\n",
       "  </tbody>\n",
       "</table>\n",
       "</div>"
      ],
      "text/plain": [
       "   ORIGEN  SEXO  TIPO_PACIENTE  ...  CLASIFICACION_FINAL  UCI  MURIO\n",
       "0       1     1              2  ...                    2    1      1\n",
       "1       1     1              2  ...                    6    2      1\n",
       "2       1     2              2  ...                    7    2      1\n",
       "3       1     2              2  ...                    3    2      1\n",
       "4       1     1              2  ...                    3    2      1\n",
       "\n",
       "[5 rows x 25 columns]"
      ]
     },
     "execution_count": 24,
     "metadata": {},
     "output_type": "execute_result"
    }
   ],
   "source": [
    "#Recibir el dataset \n",
    "Data = pd.read_csv(\"dataset_covid.csv\")\n",
    "Data.head()"
   ]
  },
  {
   "cell_type": "markdown",
   "id": "fe348c76",
   "metadata": {
    "id": "fe348c76"
   },
   "source": [
    "# Tratamiento de datos.\n",
    "En esta parte realizamos el manejo de datos, con el fin de garantizar buenos resultados por parte de nuestro algoritmo, para eso hay muchos procedimientos, en nuestro caso, optamos por el método llamado \"Codificación de destino\" o \"Codificación guiada\", el cual consiste en cambiar los datos por etiquetas, estas etiquetas representaran la probabilidad (en nuestro caso) de la relación entre morir y cada una de las características del dataset (a excepción de 4, que consideramos una poca relación)."
   ]
  },
  {
   "cell_type": "code",
   "execution_count": 5,
   "id": "0cf79f86",
   "metadata": {
    "colab": {
     "base_uri": "https://localhost:8080/",
     "height": 226
    },
    "id": "0cf79f86",
    "outputId": "fc6f1c65-f3a5-4e05-8ef5-6b25c868770c",
    "scrolled": true
   },
   "outputs": [
    {
     "data": {
      "text/html": [
       "<div>\n",
       "<style scoped>\n",
       "    .dataframe tbody tr th:only-of-type {\n",
       "        vertical-align: middle;\n",
       "    }\n",
       "\n",
       "    .dataframe tbody tr th {\n",
       "        vertical-align: top;\n",
       "    }\n",
       "\n",
       "    .dataframe thead th {\n",
       "        text-align: right;\n",
       "    }\n",
       "</style>\n",
       "<table border=\"1\" class=\"dataframe\">\n",
       "  <thead>\n",
       "    <tr style=\"text-align: right;\">\n",
       "      <th></th>\n",
       "      <th>SEXO</th>\n",
       "      <th>EDAD</th>\n",
       "      <th>TOMA_MUESTRA_LAB</th>\n",
       "      <th>TOMA_MUESTRA_ANTIGENO</th>\n",
       "      <th>MURIO</th>\n",
       "      <th>ORIGEN_E</th>\n",
       "      <th>TIPO_PACIENTE_E</th>\n",
       "      <th>INTUBADO_E</th>\n",
       "      <th>NEUMONIA_E</th>\n",
       "      <th>EMBARAZO_E</th>\n",
       "      <th>DIABETES_E</th>\n",
       "      <th>EPOC_E</th>\n",
       "      <th>ASMA_E</th>\n",
       "      <th>INMUSUPR_E</th>\n",
       "      <th>HIPERTENSION_E</th>\n",
       "      <th>OTRA_COM_E</th>\n",
       "      <th>CARDIOVASCULAR_E</th>\n",
       "      <th>OBESIDAD_E</th>\n",
       "      <th>RENAL_CRONICA_E</th>\n",
       "      <th>TABAQUISMO_E</th>\n",
       "      <th>OTRO_CASO_E</th>\n",
       "      <th>RESULTADO_LAB_E</th>\n",
       "      <th>RESULTADO_ANTIGENO_E</th>\n",
       "      <th>CLASIFICACION_FINAL_E</th>\n",
       "      <th>UCI_E</th>\n",
       "    </tr>\n",
       "  </thead>\n",
       "  <tbody>\n",
       "    <tr>\n",
       "      <th>0</th>\n",
       "      <td>1</td>\n",
       "      <td>66</td>\n",
       "      <td>2</td>\n",
       "      <td>2</td>\n",
       "      <td>1</td>\n",
       "      <td>0</td>\n",
       "      <td>1</td>\n",
       "      <td>3</td>\n",
       "      <td>2</td>\n",
       "      <td>2</td>\n",
       "      <td>1</td>\n",
       "      <td>0</td>\n",
       "      <td>1</td>\n",
       "      <td>0</td>\n",
       "      <td>1</td>\n",
       "      <td>0</td>\n",
       "      <td>0</td>\n",
       "      <td>1</td>\n",
       "      <td>0</td>\n",
       "      <td>0</td>\n",
       "      <td>0</td>\n",
       "      <td>0</td>\n",
       "      <td>2</td>\n",
       "      <td>6</td>\n",
       "      <td>1</td>\n",
       "    </tr>\n",
       "    <tr>\n",
       "      <th>1</th>\n",
       "      <td>1</td>\n",
       "      <td>33</td>\n",
       "      <td>2</td>\n",
       "      <td>2</td>\n",
       "      <td>1</td>\n",
       "      <td>0</td>\n",
       "      <td>1</td>\n",
       "      <td>2</td>\n",
       "      <td>2</td>\n",
       "      <td>2</td>\n",
       "      <td>2</td>\n",
       "      <td>2</td>\n",
       "      <td>2</td>\n",
       "      <td>2</td>\n",
       "      <td>2</td>\n",
       "      <td>1</td>\n",
       "      <td>2</td>\n",
       "      <td>2</td>\n",
       "      <td>2</td>\n",
       "      <td>2</td>\n",
       "      <td>1</td>\n",
       "      <td>0</td>\n",
       "      <td>2</td>\n",
       "      <td>0</td>\n",
       "      <td>2</td>\n",
       "    </tr>\n",
       "    <tr>\n",
       "      <th>2</th>\n",
       "      <td>2</td>\n",
       "      <td>60</td>\n",
       "      <td>1</td>\n",
       "      <td>2</td>\n",
       "      <td>1</td>\n",
       "      <td>0</td>\n",
       "      <td>1</td>\n",
       "      <td>3</td>\n",
       "      <td>2</td>\n",
       "      <td>3</td>\n",
       "      <td>0</td>\n",
       "      <td>0</td>\n",
       "      <td>1</td>\n",
       "      <td>0</td>\n",
       "      <td>0</td>\n",
       "      <td>0</td>\n",
       "      <td>0</td>\n",
       "      <td>0</td>\n",
       "      <td>0</td>\n",
       "      <td>1</td>\n",
       "      <td>1</td>\n",
       "      <td>1</td>\n",
       "      <td>2</td>\n",
       "      <td>2</td>\n",
       "      <td>2</td>\n",
       "    </tr>\n",
       "    <tr>\n",
       "      <th>3</th>\n",
       "      <td>2</td>\n",
       "      <td>58</td>\n",
       "      <td>1</td>\n",
       "      <td>2</td>\n",
       "      <td>1</td>\n",
       "      <td>0</td>\n",
       "      <td>1</td>\n",
       "      <td>2</td>\n",
       "      <td>2</td>\n",
       "      <td>3</td>\n",
       "      <td>1</td>\n",
       "      <td>0</td>\n",
       "      <td>1</td>\n",
       "      <td>0</td>\n",
       "      <td>1</td>\n",
       "      <td>0</td>\n",
       "      <td>1</td>\n",
       "      <td>0</td>\n",
       "      <td>1</td>\n",
       "      <td>0</td>\n",
       "      <td>2</td>\n",
       "      <td>3</td>\n",
       "      <td>2</td>\n",
       "      <td>5</td>\n",
       "      <td>2</td>\n",
       "    </tr>\n",
       "    <tr>\n",
       "      <th>4</th>\n",
       "      <td>1</td>\n",
       "      <td>30</td>\n",
       "      <td>1</td>\n",
       "      <td>2</td>\n",
       "      <td>1</td>\n",
       "      <td>0</td>\n",
       "      <td>1</td>\n",
       "      <td>2</td>\n",
       "      <td>2</td>\n",
       "      <td>2</td>\n",
       "      <td>0</td>\n",
       "      <td>0</td>\n",
       "      <td>1</td>\n",
       "      <td>0</td>\n",
       "      <td>0</td>\n",
       "      <td>0</td>\n",
       "      <td>0</td>\n",
       "      <td>0</td>\n",
       "      <td>1</td>\n",
       "      <td>0</td>\n",
       "      <td>2</td>\n",
       "      <td>3</td>\n",
       "      <td>2</td>\n",
       "      <td>5</td>\n",
       "      <td>2</td>\n",
       "    </tr>\n",
       "  </tbody>\n",
       "</table>\n",
       "</div>"
      ],
      "text/plain": [
       "   SEXO  EDAD  ...  CLASIFICACION_FINAL_E  UCI_E\n",
       "0     1    66  ...                      6      1\n",
       "1     1    33  ...                      0      2\n",
       "2     2    60  ...                      2      2\n",
       "3     2    58  ...                      5      2\n",
       "4     1    30  ...                      5      2\n",
       "\n",
       "[5 rows x 25 columns]"
      ]
     },
     "execution_count": 5,
     "metadata": {},
     "output_type": "execute_result"
    }
   ],
   "source": [
    "#Primero, realizamos un arreglo con los encabezados a los cuales se les aplicará el método.\n",
    "columnas = ['ORIGEN', 'TIPO_PACIENTE', 'INTUBADO', 'NEUMONIA', 'EMBARAZO', 'DIABETES', 'EPOC', 'ASMA', 'INMUSUPR', 'HIPERTENSION', \n",
    "            'OTRA_COM', 'CARDIOVASCULAR', 'OBESIDAD', 'RENAL_CRONICA', 'TABAQUISMO', 'OTRO_CASO', 'RESULTADO_LAB', 'RESULTADO_ANTIGENO', \n",
    "            'CLASIFICACION_FINAL', 'UCI']\n",
    "\n",
    "#Este ciclo, nos ayuda a realizar el proceso, para cada uno de las etiquetas\n",
    "for j in columnas:\n",
    "    Encoded_labels=Data.groupby([j])['MURIO'].mean().sort_values().index #Esta linea agarra la primera caracteristica y saca la probabilidad con respecto a \n",
    "                                                                         # la etiqueta \"murio\"\n",
    "    #A su vez, acomoda de menor a mayor las probabilidades que arroja.\n",
    "    Encoded_labels_ranks = { k:i for i, k in enumerate(Encoded_labels, 0) } #Esta linea simplemente asigna una etiqueta numérica según \n",
    "    #la cantidad de valores iniciales, arranca del 0.\n",
    "    a=j+'_E'#Solo le cambia hace referencia a que se realizó el ajuste, en el nombre de la nueva columna.\n",
    "    Data[a]= Data[j].map(Encoded_labels_ranks) #Crea una nueva columna, con los valores resultantes de la asignación de etiqueta.\n",
    "    Data = Data.drop(j, axis = 1) #Elimina la columna inicial, para que solo se use la ya tratada.\n",
    "Data.head() #Imprime el dataset con las nuevas columnas."
   ]
  },
  {
   "cell_type": "code",
   "execution_count": 6,
   "id": "92b9d00c",
   "metadata": {
    "colab": {
     "base_uri": "https://localhost:8080/",
     "height": 226
    },
    "id": "92b9d00c",
    "outputId": "18eb0592-fb55-4be9-ceef-30cce5de52dc"
   },
   "outputs": [
    {
     "data": {
      "text/html": [
       "<div>\n",
       "<style scoped>\n",
       "    .dataframe tbody tr th:only-of-type {\n",
       "        vertical-align: middle;\n",
       "    }\n",
       "\n",
       "    .dataframe tbody tr th {\n",
       "        vertical-align: top;\n",
       "    }\n",
       "\n",
       "    .dataframe thead th {\n",
       "        text-align: right;\n",
       "    }\n",
       "</style>\n",
       "<table border=\"1\" class=\"dataframe\">\n",
       "  <thead>\n",
       "    <tr style=\"text-align: right;\">\n",
       "      <th></th>\n",
       "      <th>ORIGEN_E</th>\n",
       "      <th>SEXO</th>\n",
       "      <th>TIPO_PACIENTE_E</th>\n",
       "      <th>INTUBADO_E</th>\n",
       "      <th>NEUMONIA_E</th>\n",
       "      <th>EDAD</th>\n",
       "      <th>EMBARAZO_E</th>\n",
       "      <th>DIABETES_E</th>\n",
       "      <th>EPOC_E</th>\n",
       "      <th>ASMA_E</th>\n",
       "      <th>INMUSUPR_E</th>\n",
       "      <th>HIPERTENSION_E</th>\n",
       "      <th>OTRA_COM_E</th>\n",
       "      <th>CARDIOVASCULAR_E</th>\n",
       "      <th>OBESIDAD_E</th>\n",
       "      <th>RENAL_CRONICA_E</th>\n",
       "      <th>TABAQUISMO_E</th>\n",
       "      <th>OTRO_CASO_E</th>\n",
       "      <th>TOMA_MUESTRA_LAB</th>\n",
       "      <th>RESULTADO_LAB_E</th>\n",
       "      <th>TOMA_MUESTRA_ANTIGENO</th>\n",
       "      <th>RESULTADO_ANTIGENO_E</th>\n",
       "      <th>CLASIFICACION_FINAL_E</th>\n",
       "      <th>UCI_E</th>\n",
       "      <th>MURIO</th>\n",
       "    </tr>\n",
       "  </thead>\n",
       "  <tbody>\n",
       "    <tr>\n",
       "      <th>0</th>\n",
       "      <td>0</td>\n",
       "      <td>1</td>\n",
       "      <td>1</td>\n",
       "      <td>3</td>\n",
       "      <td>2</td>\n",
       "      <td>66</td>\n",
       "      <td>2</td>\n",
       "      <td>1</td>\n",
       "      <td>0</td>\n",
       "      <td>1</td>\n",
       "      <td>0</td>\n",
       "      <td>1</td>\n",
       "      <td>0</td>\n",
       "      <td>0</td>\n",
       "      <td>1</td>\n",
       "      <td>0</td>\n",
       "      <td>0</td>\n",
       "      <td>0</td>\n",
       "      <td>2</td>\n",
       "      <td>0</td>\n",
       "      <td>2</td>\n",
       "      <td>2</td>\n",
       "      <td>6</td>\n",
       "      <td>1</td>\n",
       "      <td>1</td>\n",
       "    </tr>\n",
       "    <tr>\n",
       "      <th>1</th>\n",
       "      <td>0</td>\n",
       "      <td>1</td>\n",
       "      <td>1</td>\n",
       "      <td>2</td>\n",
       "      <td>2</td>\n",
       "      <td>33</td>\n",
       "      <td>2</td>\n",
       "      <td>2</td>\n",
       "      <td>2</td>\n",
       "      <td>2</td>\n",
       "      <td>2</td>\n",
       "      <td>2</td>\n",
       "      <td>1</td>\n",
       "      <td>2</td>\n",
       "      <td>2</td>\n",
       "      <td>2</td>\n",
       "      <td>2</td>\n",
       "      <td>1</td>\n",
       "      <td>2</td>\n",
       "      <td>0</td>\n",
       "      <td>2</td>\n",
       "      <td>2</td>\n",
       "      <td>0</td>\n",
       "      <td>2</td>\n",
       "      <td>1</td>\n",
       "    </tr>\n",
       "    <tr>\n",
       "      <th>2</th>\n",
       "      <td>0</td>\n",
       "      <td>2</td>\n",
       "      <td>1</td>\n",
       "      <td>3</td>\n",
       "      <td>2</td>\n",
       "      <td>60</td>\n",
       "      <td>3</td>\n",
       "      <td>0</td>\n",
       "      <td>0</td>\n",
       "      <td>1</td>\n",
       "      <td>0</td>\n",
       "      <td>0</td>\n",
       "      <td>0</td>\n",
       "      <td>0</td>\n",
       "      <td>0</td>\n",
       "      <td>0</td>\n",
       "      <td>1</td>\n",
       "      <td>1</td>\n",
       "      <td>1</td>\n",
       "      <td>1</td>\n",
       "      <td>2</td>\n",
       "      <td>2</td>\n",
       "      <td>2</td>\n",
       "      <td>2</td>\n",
       "      <td>1</td>\n",
       "    </tr>\n",
       "    <tr>\n",
       "      <th>3</th>\n",
       "      <td>0</td>\n",
       "      <td>2</td>\n",
       "      <td>1</td>\n",
       "      <td>2</td>\n",
       "      <td>2</td>\n",
       "      <td>58</td>\n",
       "      <td>3</td>\n",
       "      <td>1</td>\n",
       "      <td>0</td>\n",
       "      <td>1</td>\n",
       "      <td>0</td>\n",
       "      <td>1</td>\n",
       "      <td>0</td>\n",
       "      <td>1</td>\n",
       "      <td>0</td>\n",
       "      <td>1</td>\n",
       "      <td>0</td>\n",
       "      <td>2</td>\n",
       "      <td>1</td>\n",
       "      <td>3</td>\n",
       "      <td>2</td>\n",
       "      <td>2</td>\n",
       "      <td>5</td>\n",
       "      <td>2</td>\n",
       "      <td>1</td>\n",
       "    </tr>\n",
       "    <tr>\n",
       "      <th>4</th>\n",
       "      <td>0</td>\n",
       "      <td>1</td>\n",
       "      <td>1</td>\n",
       "      <td>2</td>\n",
       "      <td>2</td>\n",
       "      <td>30</td>\n",
       "      <td>2</td>\n",
       "      <td>0</td>\n",
       "      <td>0</td>\n",
       "      <td>1</td>\n",
       "      <td>0</td>\n",
       "      <td>0</td>\n",
       "      <td>0</td>\n",
       "      <td>0</td>\n",
       "      <td>0</td>\n",
       "      <td>1</td>\n",
       "      <td>0</td>\n",
       "      <td>2</td>\n",
       "      <td>1</td>\n",
       "      <td>3</td>\n",
       "      <td>2</td>\n",
       "      <td>2</td>\n",
       "      <td>5</td>\n",
       "      <td>2</td>\n",
       "      <td>1</td>\n",
       "    </tr>\n",
       "  </tbody>\n",
       "</table>\n",
       "</div>"
      ],
      "text/plain": [
       "   ORIGEN_E  SEXO  TIPO_PACIENTE_E  ...  CLASIFICACION_FINAL_E  UCI_E  MURIO\n",
       "0         0     1                1  ...                      6      1      1\n",
       "1         0     1                1  ...                      0      2      1\n",
       "2         0     2                1  ...                      2      2      1\n",
       "3         0     2                1  ...                      5      2      1\n",
       "4         0     1                1  ...                      5      2      1\n",
       "\n",
       "[5 rows x 25 columns]"
      ]
     },
     "execution_count": 6,
     "metadata": {},
     "output_type": "execute_result"
    }
   ],
   "source": [
    "#En esta celda, unicamente acomodamos el dataset, dejando al último la clase (MURIO).\n",
    "Data = Data.reindex(columns=['ORIGEN_E','SEXO','TIPO_PACIENTE_E', 'INTUBADO_E', 'NEUMONIA_E','EDAD','EMBARAZO_E', 'DIABETES_E', 'EPOC_E', 'ASMA_E', \n",
    "                             'INMUSUPR_E', 'HIPERTENSION_E', 'OTRA_COM_E', 'CARDIOVASCULAR_E', 'OBESIDAD_E', 'RENAL_CRONICA_E', 'TABAQUISMO_E', 'OTRO_CASO_E', \n",
    "                             'TOMA_MUESTRA_LAB','RESULTADO_LAB_E','TOMA_MUESTRA_ANTIGENO' ,'RESULTADO_ANTIGENO_E', 'CLASIFICACION_FINAL_E', 'UCI_E','MURIO'])\n",
    "Data.head()"
   ]
  },
  {
   "cell_type": "code",
   "execution_count": 7,
   "id": "85e397af",
   "metadata": {
    "colab": {
     "base_uri": "https://localhost:8080/"
    },
    "id": "85e397af",
    "outputId": "7fc1b8e7-3d54-4dbc-f131-5c30102ce5ec",
    "scrolled": true
   },
   "outputs": [
    {
     "name": "stdout",
     "output_type": "stream",
     "text": [
      "   ORIGEN_E  SEXO  ...  CLASIFICACION_FINAL_E  UCI_E\n",
      "0         0     1  ...                      6      1\n",
      "1         0     1  ...                      0      2\n",
      "2         0     2  ...                      2      2\n",
      "3         0     2  ...                      5      2\n",
      "4         0     1  ...                      5      2\n",
      "\n",
      "[5 rows x 24 columns]\n",
      "0    1\n",
      "1    1\n",
      "2    1\n",
      "3    1\n",
      "4    1\n",
      "Name: MURIO, dtype: int64\n"
     ]
    }
   ],
   "source": [
    "#Asignación de el conjunto de características (X) y las etiquetas (clases, y). \n",
    "X=Data.iloc[:,0:24]\n",
    "y=Data.iloc[:,24]\n",
    "print(y[:5])"
   ]
  },
  {
   "cell_type": "code",
   "execution_count": 8,
   "id": "9eb915f8",
   "metadata": {
    "id": "9eb915f8"
   },
   "outputs": [],
   "source": [
    "#Divide en conjuntos de prueba y entrenamiento el dataset. Queda con un porcentaje 70 (entrenamiento) y 30 (prueba).\n",
    "X_train, X_test, y_train, y_test = train_test_split(X, y, test_size=.3, random_state=42)\n",
    "\n",
    "#Estandarizacion. Esto hace referencia a el ajuste de los numeros, con el fin de tener a todos en un estandar y mejorar el\n",
    "#trabajo del algoritmo\n",
    "X_train = StandardScaler().fit_transform(X_train)\n",
    "X_test = StandardScaler().fit_transform(X_test)"
   ]
  },
  {
   "cell_type": "markdown",
   "id": "3c0b0785",
   "metadata": {
    "id": "3c0b0785"
   },
   "source": [
    "# MLPClassifier()\n",
    "Para este proyecto se nos pidió usar la técnica MLPClassifier para la clasificación y predicción, esta técnica se basa en el modelo perceptrón multicapa, visto en clase, en el cual, convierte cada instancia del dataset en capas conectadas entre sí. Cada capa contiene características a los cuales se le asignan pesos iniciales, los cuales por cada época de entrenamiento se ajustan en busca de patrones y pesos que arrojen resultados correctos.\n",
    "Las épocas de entrenamiento van de la mano de 2 funciones, de núcleo (g(x,w)) y de activación ((f(g)) con estas 2 funciones obtenemos una salida (y) la cual, según se compare con la etiqueta real (columna MURIO), determinará si los pesos deben actualizarse o no.\n",
    "A continuación: 4 modelos para la predicción de muertes por covid."
   ]
  },
  {
   "cell_type": "code",
   "execution_count": 9,
   "id": "4b66bda0",
   "metadata": {
    "colab": {
     "base_uri": "https://localhost:8080/"
    },
    "id": "4b66bda0",
    "outputId": "585131ed-6fc8-4dfb-dfda-e24aa37bc6f5"
   },
   "outputs": [
    {
     "data": {
      "text/plain": [
       "MLPClassifier(learning_rate_init=0.01, max_iter=1000, random_state=21,\n",
       "              shuffle=False)"
      ]
     },
     "execution_count": 9,
     "metadata": {},
     "output_type": "execute_result"
    }
   ],
   "source": [
    "modelo=MLPClassifier(random_state=42,max_iter=1000, solver='adam', shuffle=True)\n",
    "# random_state: generación de números aleatorios para las ponderaciones y la inicialización de sesgo\n",
    "# max_iter: máximo de iteraciones\n",
    "# solver: optimizador \n",
    "# shuffle: mezclar muestras en cada iteración\n",
    "modelo.fit(X_train, y_train)\n",
    "modelo.fit(X_test, y_test)\n",
    "\n",
    "# Creacion del modelo 2\n",
    "modelo_2=MLPClassifier(random_state=84,max_iter=1500, solver='adam', shuffle=True)\n",
    "modelo_2.fit(X_train, y_train)\n",
    "modelo_2.fit(X_test, y_test)\n",
    "\n",
    "# Creacion del modelo 3\n",
    "modelo_3=MLPClassifier(random_state=36,max_iter=1500, solver='adam', learning_rate_init=0.005, shuffle=True)\n",
    "# learning_rate: tasas de aprendizaje para actualizaciones de peso\n",
    "modelo_3.fit(X_train, y_train)\n",
    "modelo_3.fit(X_test, y_test)\n",
    "\n",
    "# Creacion del modelo 4\n",
    "modelo_4=MLPClassifier(random_state=21,max_iter=1000, solver='adam', learning_rate_init=0.010, shuffle=False)\n",
    "modelo_4.fit(X_train, y_train)\n",
    "modelo_4.fit(X_test, y_test)"
   ]
  },
  {
   "cell_type": "markdown",
   "id": "d9cba9f8",
   "metadata": {
    "id": "d9cba9f8"
   },
   "source": [
    "# Métricas de evaluación.\n",
    "Para evaluar nuestros modelos y checar los resultados, se nos pidieron 3 métricas diferentes; la primera, la exactitud, la cual se encarga de mostrar numéricamente la cantidad de predicciones positivas correctas, la segunda, F1-score o sea una puntuación sobre las etiquetas (clases) del dataset, que se basa en una operación matemática entre otras dos métricas (exactitud y exhaustividad), y la tercera la matriz de confusión, que nos mostrará de manera gráfica: Los verdaderos positivos, falsos positivos, falsos negativos y verdaderos negativos.\n",
    "El equipo decidió, mostrar la exactitud y matriz de confusión para los conjuntos de prueba como de entrenamiento."
   ]
  },
  {
   "cell_type": "code",
   "execution_count": 20,
   "id": "82d6538e",
   "metadata": {
    "colab": {
     "base_uri": "https://localhost:8080/",
     "height": 625
    },
    "id": "82d6538e",
    "outputId": "3faffe74-a61c-44f7-fc84-3956176e95b4"
   },
   "outputs": [
    {
     "name": "stdout",
     "output_type": "stream",
     "text": [
      "***Exactitud:  0.975 ***\n",
      "***Exactitud entrenamiento:  0.919 ***\n",
      "Valor F1 0.9746666666666667\n"
     ]
    },
    {
     "data": {
      "image/png": "[encoded data removed]",
      "text/plain": [
       "<Figure size 432x288 with 2 Axes>"
      ]
     },
     "metadata": {
      "needs_background": "light"
     },
     "output_type": "display_data"
    },
    {
     "data": {
      "image/png": "[encoded data removed]",
      "text/plain": [
       "<Figure size 432x288 with 2 Axes>"
      ]
     },
     "metadata": {
      "needs_background": "light"
     },
     "output_type": "display_data"
    }
   ],
   "source": [
    "# Evaluacion del modelo 1\n",
    "accuracy=round(modelo.score(X_test, y_test),3)\n",
    "print(\"***Exactitud: \",accuracy,\"***\")#Impresión y calculo de la exactitud de prueba\n",
    "accuracy=round(modelo.score(X_train, y_train),3)\n",
    "print(\"***Exactitud entrenamiento: \",accuracy,\"***\")#Impresión y calculo de la exactitud de entrenamiento\n",
    "y_pred = modelo.predict(X_test) #El modelo predice las nuevas etiquetas que debe tener el conjunto de prueba.\n",
    "print('Valor F1', f1_score(y_test, y_pred, average='micro'))\n",
    "cm = confusion_matrix(y_test, y_pred, labels=modelo.classes_) #Calcula la matriz de confusión pasandole como parametro\n",
    "#las nuevas y las primeras etiquetas del conjunto de prueba. Además de la lista de etiquetas con las que trabaja el \n",
    "#clasificador \n",
    "disp = ConfusionMatrixDisplay(confusion_matrix=cm,display_labels=modelo.classes_)#Dibuja la matriz.\n",
    "disp.plot(values_format = '')\n",
    "plt.title('Matriz Prueba')\n",
    "plt.xlabel(\"Etiqueta predicha\")\n",
    "plt.ylabel(\"Etiqueta real\")\n",
    "#Repite proceso para la matriz de confusión del conjunto de entrenamiento.\n",
    "y_pred_train = modelo.predict(X_train)\n",
    "cm_train = confusion_matrix(y_train, y_pred_train, labels=modelo.classes_)\n",
    "disp_train = ConfusionMatrixDisplay(confusion_matrix=cm_train,display_labels=modelo.classes_)\n",
    "disp_train.plot(values_format = '')\n",
    "plt.title('Matriz Entrenamiento')\n",
    "plt.xlabel(\"Etiqueta predicha\")\n",
    "plt.ylabel(\"Etiqueta real\")\n",
    "plt.show()#Imprime las matrices"
   ]
  },
  {
   "cell_type": "code",
   "execution_count": 21,
   "id": "YpWwCOaCN7e5",
   "metadata": {
    "colab": {
     "base_uri": "https://localhost:8080/",
     "height": 625
    },
    "id": "YpWwCOaCN7e5",
    "outputId": "ef4520ae-83f0-4cb1-c067-52931264a895"
   },
   "outputs": [
    {
     "name": "stdout",
     "output_type": "stream",
     "text": [
      "***Exactitud:  0.973 ***\n",
      "***Exactitud entrenamiento:  0.918 ***\n",
      "Valor F1 0.9746666666666667\n"
     ]
    },
    {
     "data": {
      "image/png": "[encoded data removed]",
      "text/plain": [
       "<Figure size 432x288 with 2 Axes>"
      ]
     },
     "metadata": {
      "needs_background": "light"
     },
     "output_type": "display_data"
    },
    {
     "data": {
      "image/png": "[encoded data removed]",
      "text/plain": [
       "<Figure size 432x288 with 2 Axes>"
      ]
     },
     "metadata": {
      "needs_background": "light"
     },
     "output_type": "display_data"
    }
   ],
   "source": [
    "# Evaluación del modelo 2\n",
    "accuracy=round(modelo_2.score(X_test, y_test),3)\n",
    "print(\"***Exactitud: \",accuracy,\"***\")\n",
    "accuracy=round(modelo_2.score(X_train, y_train),3)\n",
    "print(\"***Exactitud entrenamiento: \",accuracy,\"***\")\n",
    "print('Valor F1', f1_score(y_test, y_pred, average='micro'))\n",
    "y_pred = modelo_2.predict(X_test)\n",
    "cm = confusion_matrix(y_test, y_pred, labels=modelo_2.classes_)\n",
    "disp = ConfusionMatrixDisplay(confusion_matrix=cm,display_labels=modelo_2.classes_)\n",
    "disp.plot(values_format = '')\n",
    "plt.title('Matriz Prueba')\n",
    "plt.xlabel(\"Etiqueta predicha\")\n",
    "plt.ylabel(\"Etiqueta real\")\n",
    "y_pred_train = modelo_2.predict(X_train)\n",
    "cm_train = confusion_matrix(y_train, y_pred_train, labels=modelo_2.classes_)\n",
    "disp_train = ConfusionMatrixDisplay(confusion_matrix=cm_train,display_labels=modelo_2.classes_)\n",
    "disp_train.plot(values_format = '')\n",
    "plt.title('Matriz Entrenamiento')\n",
    "plt.xlabel(\"Etiqueta predicha\")\n",
    "plt.ylabel(\"Etiqueta real\")\n",
    "plt.show()"
   ]
  },
  {
   "cell_type": "code",
   "execution_count": 22,
   "id": "qgx5yQRvN9XT",
   "metadata": {
    "colab": {
     "base_uri": "https://localhost:8080/",
     "height": 625
    },
    "id": "qgx5yQRvN9XT",
    "outputId": "587d70ca-5e9a-419c-d6a6-e553f9a09225"
   },
   "outputs": [
    {
     "name": "stdout",
     "output_type": "stream",
     "text": [
      "***Exactitud:  0.973 ***\n",
      "***Exactitud entrenamiento:  0.917 ***\n",
      "Valor F1 0.9728333333333333\n"
     ]
    },
    {
     "data": {
      "image/png": "[encoded data removed]",
      "text/plain": [
       "<Figure size 432x288 with 2 Axes>"
      ]
     },
     "metadata": {
      "needs_background": "light"
     },
     "output_type": "display_data"
    },
    {
     "data": {
      "image/png": "[encoded data removed]",
      "text/plain": [
       "<Figure size 432x288 with 2 Axes>"
      ]
     },
     "metadata": {
      "needs_background": "light"
     },
     "output_type": "display_data"
    }
   ],
   "source": [
    "\n",
    "# Evaluación del modelo 3\n",
    "accuracy=round(modelo_3.score(X_test, y_test),3)\n",
    "print(\"***Exactitud: \",accuracy,\"***\")\n",
    "accuracy=round(modelo_3.score(X_train, y_train),3)\n",
    "print(\"***Exactitud entrenamiento: \",accuracy,\"***\")\n",
    "print('Valor F1', f1_score(y_test, y_pred, average='micro'))\n",
    "y_pred = modelo_3.predict(X_test)\n",
    "cm = confusion_matrix(y_test, y_pred, labels=modelo_3.classes_)\n",
    "disp = ConfusionMatrixDisplay(confusion_matrix=cm,display_labels=modelo_3.classes_)\n",
    "disp.plot(values_format = '')\n",
    "plt.title('Matriz Prueba')\n",
    "plt.xlabel(\"Etiqueta predicha\")\n",
    "plt.ylabel(\"Etiqueta real\")\n",
    "y_pred_train = modelo_3.predict(X_train)\n",
    "cm_train = confusion_matrix(y_train, y_pred_train, labels=modelo_3.classes_)\n",
    "disp_train = ConfusionMatrixDisplay(confusion_matrix=cm_train,display_labels=modelo_3.classes_)\n",
    "disp_train.plot(values_format = '')\n",
    "plt.title('Matriz Entrenamiento')\n",
    "plt.xlabel(\"Etiqueta predicha\")\n",
    "plt.ylabel(\"Etiqueta real\")\n",
    "plt.show()"
   ]
  },
  {
   "cell_type": "code",
   "execution_count": 23,
   "id": "zHYLtpyMN-uZ",
   "metadata": {
    "colab": {
     "base_uri": "https://localhost:8080/",
     "height": 625
    },
    "id": "zHYLtpyMN-uZ",
    "outputId": "ead42144-5992-4f05-a050-ea5703c36fac"
   },
   "outputs": [
    {
     "name": "stdout",
     "output_type": "stream",
     "text": [
      "***Exactitud:  0.976 ***\n",
      "***Exactitud entrenamiento:  0.915 ***\n",
      "Valor F1 0.9733333333333334\n"
     ]
    },
    {
     "data": {
      "image/png": "[encoded data removed]",
      "text/plain": [
       "<Figure size 432x288 with 2 Axes>"
      ]
     },
     "metadata": {
      "needs_background": "light"
     },
     "output_type": "display_data"
    },
    {
     "data": {
      "image/png": "[encoded data removed]",
      "text/plain": [
       "<Figure size 432x288 with 2 Axes>"
      ]
     },
     "metadata": {
      "needs_background": "light"
     },
     "output_type": "display_data"
    }
   ],
   "source": [
    "# Evaluación del modelo 4\n",
    "accuracy=round(modelo_4.score(X_test, y_test),3)\n",
    "print(\"***Exactitud: \",accuracy,\"***\")\n",
    "accuracy=round(modelo_4.score(X_train, y_train),3)\n",
    "print(\"***Exactitud entrenamiento: \",accuracy,\"***\")\n",
    "print('Valor F1', f1_score(y_test, y_pred, average='micro'))\n",
    "y_pred = modelo_4.predict(X_test)\n",
    "cm = confusion_matrix(y_test, y_pred, labels=modelo_4.classes_)\n",
    "disp = ConfusionMatrixDisplay(confusion_matrix=cm,display_labels=modelo_4.classes_)\n",
    "disp.plot(values_format = '')\n",
    "plt.title('Matriz Prueba')\n",
    "plt.xlabel(\"Etiqueta predicha\")\n",
    "plt.ylabel(\"Etiqueta real\")\n",
    "y_pred_train = modelo_4.predict(X_train)\n",
    "cm_train = confusion_matrix(y_train, y_pred_train, labels=modelo_4.classes_)\n",
    "disp_train = ConfusionMatrixDisplay(confusion_matrix=cm_train,display_labels=modelo_4.classes_)\n",
    "disp_train.plot(values_format = '')\n",
    "plt.title('Matriz Entrenamiento')\n",
    "plt.xlabel(\"Etiqueta predicha\")\n",
    "plt.ylabel(\"Etiqueta real\")\n",
    "plt.show()"
   ]
  }
 ],
 "metadata": {
  "colab": {
   "collapsed_sections": [],
   "name": "pia4_SistemOsos.ipynb",
   "provenance": []
  },
  "kernelspec": {
   "display_name": "Python 3 (ipykernel)",
   "language": "python",
   "name": "python3"
  },
  "language_info": {
   "codemirror_mode": {
    "name": "ipython",
    "version": 3
   },
   "file_extension": ".py",
   "mimetype": "text/x-python",
   "name": "python",
   "nbconvert_exporter": "python",
   "pygments_lexer": "ipython3",
   "version": "3.9.13"
  }
 },
 "nbformat": 4,
 "nbformat_minor": 5
}
